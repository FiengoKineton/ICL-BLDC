{
 "cells": [
  {
   "cell_type": "code",
   "execution_count": 2,
   "metadata": {},
   "outputs": [],
   "source": [
    "%matplotlib widget\n",
    "%matplotlib widget\n",
    "import os\n",
    "from pathlib import Path\n",
    "import time\n",
    "import torch\n",
    "import numpy as np\n",
    "import math\n",
    "import gc\n",
    "from functools import partial\n",
    "from dataset import Dataset, load_dataframes_from_folder, reverse_normalization, normalize_fixed_ranges\n",
    "from torch.utils.data import DataLoader\n",
    "from transformer_zerostep import GPTConfig, GPT, warmup_cosine_lr\n",
    "import argparse\n",
    "import warnings\n",
    "import matplotlib.pyplot as plt\n",
    "import glob\n",
    "import pandas as pd\n",
    "\n",
    "plt.rcParams['pdf.fonttype'] = 42\n",
    "plt.rcParams['ps.fonttype'] = 42\n",
    "plt.rcParams[\"font.family\"] = \"Times New Roman\"\n",
    "plt.rcParams[\"mathtext.fontset\"] = \"cm\"\n",
    "plt.rcParams['axes.labelsize']=14\n",
    "plt.rcParams['xtick.labelsize']=11\n",
    "plt.rcParams['ytick.labelsize']=11\n",
    "plt.rcParams['axes.grid']=True\n",
    "plt.rcParams['axes.xmargin']=0"
   ]
  },
  {
   "cell_type": "code",
   "execution_count": null,
   "metadata": {},
   "outputs": [
    {
     "name": "stdout",
     "output_type": "stream",
     "text": [
      "True\n",
      "10\n",
      "5849\n",
      "0.0030167651711963117\n",
      "Namespace(model_dir='out', out_file='ckpt_50pct_recursive_h10_real_val_speed_correction_v2', in_file='ckpt_50pct_recursive_h10_real_val_speed_correction_v2', init_from='resume', seed=42, log_wandb=False, nx=4, nu=5, ny=1, seq_len=10, mag_range=(0.5, 0.97), phase_range=(0.0, 1.5707963267948966), fixed_system=False, n_layer=8, n_head=4, n_embd=16, dropout=0, bias=False, batch_size=128, max_iters=10000, warmup_iters=5000, lr=5e-05, weight_decay=0.0, eval_interval=10, eval_iters=10, fixed_lr=False, threads=16, no_cuda=False, cuda_device='cuda:0', compile=False, beta1=0.9, beta2=0.95, block_size=10, lr_decay_iters=10000, min_lr=5e-06, decay_lr=True, eval_batch_size=128)\n",
      "5e-05\n"
     ]
    }
   ],
   "source": [
    "# Overall settings\n",
    "out_dir = \"out\"\n",
    "\n",
    "current_path = os.getcwd().split(\"in-context-bldc\")[0]\n",
    "data_path = os.path.join(current_path,\"in-context-bldc\", \"data\")\n",
    "\n",
    "folder = \"CL_experiments_double_sensor_high_speed_ekf/\"\n",
    "folder_path = os.path.join(data_path, folder)\n",
    "save_folder = \"CL_experiments_double_sensor_high_speed_ekf_and_meta/\"\n",
    "save_folder_path = os.path.join(data_path, save_folder)\n",
    "\n",
    "model_name = \"model_high_speed.pt\"\n",
    "\n",
    "# Compute settings\n",
    "cuda_device = \"cuda:0\"\n",
    "no_cuda = False\n",
    "threads = 10\n",
    "compile = False\n",
    "\n",
    "# Configure compute\n",
    "torch.set_num_threads(threads) \n",
    "use_cuda = not no_cuda and torch.cuda.is_available()\n",
    "device_name  = cuda_device if use_cuda else \"cpu\"\n",
    "device = torch.device(device_name)\n",
    "device_type = 'cuda' if 'cuda' in device_name else 'cpu' # for later use in torch.autocast\n",
    "torch.set_float32_matmul_precision(\"high\")\n",
    "print(torch.cuda.is_available())\n",
    "# Create out dir\n",
    "out_dir = Path(out_dir)\n",
    "exp_data = torch.load(out_dir/model_name, map_location=device, weights_only=False)\n",
    "seq_len = exp_data[\"cfg\"].seq_len\n",
    "nx = exp_data[\"cfg\"].nx\n",
    "exp_data[\"iter_num\"]\n",
    "print(seq_len)\n",
    "print(exp_data[\"iter_num\"])\n",
    "print(exp_data['best_val_loss'])\n",
    "print(exp_data[\"cfg\"])\n",
    "print(exp_data[\"cfg\"].lr)"
   ]
  },
  {
   "cell_type": "code",
   "execution_count": 4,
   "metadata": {},
   "outputs": [
    {
     "name": "stdout",
     "output_type": "stream",
     "text": [
      "number of parameters: 0.03M\n"
     ]
    },
    {
     "data": {
      "text/plain": [
       "<All keys matched successfully>"
      ]
     },
     "execution_count": 4,
     "metadata": {},
     "output_type": "execute_result"
    }
   ],
   "source": [
    "model_args = exp_data[\"model_args\"]\n",
    "gptconf = GPTConfig(**model_args)\n",
    "model = GPT(gptconf).to(device)\n",
    "\n",
    "\n",
    "state_dict = exp_data[\"model\"]\n",
    "unwanted_prefix = '_orig_mod.'\n",
    "for k,v in list(state_dict.items()):\n",
    "    if k.startswith(unwanted_prefix):\n",
    "        state_dict[k[len(unwanted_prefix):]] = state_dict.pop(k)\n",
    "    if k.startswith('module.'):\n",
    "        state_dict[k[7:]] = v\n",
    "        state_dict.pop(k)\n",
    "\n",
    "model.load_state_dict(state_dict)"
   ]
  },
  {
   "cell_type": "code",
   "execution_count": 5,
   "metadata": {},
   "outputs": [
    {
     "name": "stdout",
     "output_type": "stream",
     "text": [
      "[WinError 183] Impossibile creare un file, se il file esiste già: 'c:\\\\Users\\\\39340\\\\Documents\\\\GitHub\\\\in-context-bldc\\\\data\\\\CL_experiments_double_sensor_high_speed_ekf_and_meta/final/inertia05_ki-0.0061-kp-11.8427'\n",
      "[WinError 183] Impossibile creare un file, se il file esiste già: 'c:\\\\Users\\\\39340\\\\Documents\\\\GitHub\\\\in-context-bldc\\\\data\\\\CL_experiments_double_sensor_high_speed_ekf_and_meta/final/inertia07_ki-0.0061-kp-11.8427'\n",
      "[WinError 183] Impossibile creare un file, se il file esiste già: 'c:\\\\Users\\\\39340\\\\Documents\\\\GitHub\\\\in-context-bldc\\\\data\\\\CL_experiments_double_sensor_high_speed_ekf_and_meta/final/inertia09_ki-0.0061-kp-11.8427'\n",
      "[WinError 183] Impossibile creare un file, se il file esiste già: 'c:\\\\Users\\\\39340\\\\Documents\\\\GitHub\\\\in-context-bldc\\\\data\\\\CL_experiments_double_sensor_high_speed_ekf_and_meta/final/inertia11_ki-0.0061-kp-11.8427'\n",
      "[WinError 183] Impossibile creare un file, se il file esiste già: 'c:\\\\Users\\\\39340\\\\Documents\\\\GitHub\\\\in-context-bldc\\\\data\\\\CL_experiments_double_sensor_high_speed_ekf_and_meta/final/inertia13_ki-0.0061-kp-11.8427'\n",
      "[WinError 183] Impossibile creare un file, se il file esiste già: 'c:\\\\Users\\\\39340\\\\Documents\\\\GitHub\\\\in-context-bldc\\\\data\\\\CL_experiments_double_sensor_high_speed_ekf_and_meta/final/inertia15_ki-0.0061-kp-11.8427'\n"
     ]
    }
   ],
   "source": [
    "final_folder = folder_path + \"final/\"\n",
    "# final_fixed_folder = folder_path + \"final_fixed/\"\n",
    "\n",
    "save_final_folder = save_folder_path + \"final/\"\n",
    "# save_final_fixed_folder = save_folder_path + \"final_fixed/\"\n",
    "\n",
    "final_folder_list = glob.glob(os.path.join(final_folder, \"*\"))\n",
    "# print(final_folder_list)\n",
    "for i in range(len(final_folder_list)):\n",
    "    foldername = str(final_folder_list[i]).split(\"\\\\\")[-1]\n",
    "    csv_list = glob.glob(os.path.join(final_folder_list[i], \"*.csv\"))\n",
    "    try:\n",
    "        os.mkdir(os.path.join(save_final_folder, foldername))\n",
    "    except OSError as error:\n",
    "        print(error)    \n",
    "    for file in csv_list:\n",
    "\n",
    "        filename = str(file).split(\"\\\\\")[-1]\n",
    "\n",
    "        df = pd.read_csv(file)\n",
    "        omega = df['omega'].to_numpy()\n",
    "        last_idx = np.argwhere(omega>0)[-1] \n",
    "        first_idx = np.max([last_idx[0] - 2202, 0])\n",
    "        last_idx = first_idx + 2202  \n",
    "\n",
    "        df.drop(df.tail(len(df)-last_idx).index, inplace=True) # drop last n rows\n",
    "        df.drop(df.head(first_idx).index, inplace=True) # drop first n rows\n",
    "        omega = df['omega'].to_numpy()\n",
    "        df[\"t\"] = df[\"t\"].to_numpy() - df[\"t\"].to_numpy()[0]\n",
    "\n",
    "        # df.to_csv(os.path.join(save_final_folder, foldername, filename))\n"
   ]
  }
 ],
 "metadata": {
  "kernelspec": {
   "display_name": "Python 3",
   "language": "python",
   "name": "python3"
  },
  "language_info": {
   "codemirror_mode": {
    "name": "ipython",
    "version": 3
   },
   "file_extension": ".py",
   "mimetype": "text/x-python",
   "name": "python",
   "nbconvert_exporter": "python",
   "pygments_lexer": "ipython3",
   "version": "3.12.1"
  }
 },
 "nbformat": 4,
 "nbformat_minor": 2
}
